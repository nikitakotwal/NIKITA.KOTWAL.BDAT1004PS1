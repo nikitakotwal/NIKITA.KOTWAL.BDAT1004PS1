{
 "cells": [
  {
   "cell_type": "markdown",
   "id": "481c0f71",
   "metadata": {},
   "source": [
    "# Q1. What data type is each of the following?"
   ]
  },
  {
   "cell_type": "raw",
   "id": "9b12a976",
   "metadata": {},
   "source": [
    "5 - Integer\n",
    "\n",
    "5.0 - Float\n",
    "\n",
    "5>1 - Boolean\n",
    "\n",
    "'5' - Character\n",
    "\n",
    "5*2 - Integer\n",
    "\n",
    "'5' * 2 - String\n",
    "\n",
    "'5' + '2' - String\n",
    "\n",
    "5/2 - Float\n",
    "\n",
    "5%2 - Integer\n",
    "\n",
    "{5, 2, 1} - Set\n",
    "\n",
    "5 == 3 - Boolean\n",
    "\n",
    "Pi (the number) - Double"
   ]
  },
  {
   "cell_type": "markdown",
   "id": "dc5119ca",
   "metadata": {},
   "source": [
    "# Q2. Write (and evaluate) C# expressions that answer these questions:\n",
    "\n"
   ]
  },
  {
   "cell_type": "markdown",
   "id": "fd96f5ae",
   "metadata": {},
   "source": [
    "#   a. How many letters are there in 'Supercalifragilisticexpialidocious'?"
   ]
  },
  {
   "cell_type": "code",
   "execution_count": 1,
   "id": "8a923105",
   "metadata": {},
   "outputs": [
    {
     "name": "stdout",
     "output_type": "stream",
     "text": [
      "34\n"
     ]
    }
   ],
   "source": [
    "a='Supercalifragilisticexpialidocious'\n",
    "print(len(a))"
   ]
  },
  {
   "cell_type": "markdown",
   "id": "ce302da5",
   "metadata": {},
   "source": [
    "# b. Does 'Supercalifragilisticexpialidocious' contain 'ice' as a substring"
   ]
  },
  {
   "cell_type": "code",
   "execution_count": 2,
   "id": "c6f1a593",
   "metadata": {},
   "outputs": [
    {
     "name": "stdout",
     "output_type": "stream",
     "text": [
      "Found\n"
     ]
    }
   ],
   "source": [
    "fullstring = \"Supercalifragilisticexpialidocious\"\n",
    "substring  = \"ice\"\n",
    "\n",
    "if substring in fullstring:\n",
    "    print(\"Found\")\n",
    "else:\n",
    "    print (\"Not Found\")"
   ]
  },
  {
   "cell_type": "markdown",
   "id": "d5066ad2",
   "metadata": {},
   "source": [
    "# c. Which of the following words is the longest: Supercalifragilisticexpialidocious, Honorificabilitudinitatibus, or Bababadalgharaghtakamminarronnkonn?# "
   ]
  },
  {
   "cell_type": "code",
   "execution_count": 3,
   "id": "859ab893",
   "metadata": {},
   "outputs": [
    {
     "name": "stdout",
     "output_type": "stream",
     "text": [
      "Supercalifragilisticexpialidocious and Bababadalgharaghtakamminarronnkonn are longest\n"
     ]
    }
   ],
   "source": [
    "str1 = \"Supercalifragilisticexpialidocious\"\n",
    "str2 = \"Honorificabilitudinitatibus\"\n",
    "str3 = \"Bababadalgharaghtakamminarronnkonn\"\n",
    "   \n",
    "x = len(str1)\n",
    "y = len(str2)\n",
    "z = len(str3)\n",
    "    \n",
    "if(x>y) and (x>z):\n",
    "    print(str1, 'is the longest')\n",
    "elif (y>x) and (y>z):\n",
    "    print(str2, 'is the longest')\n",
    "elif (z>x) and (z>y):\n",
    "    print(str3, 'is the longest')\n",
    "elif (x==y):\n",
    "    print(str1, 'and', str2, 'are longest')\n",
    "elif (x==z):\n",
    "    print(str1, 'and', str3, 'are longest')\n",
    "elif (y==z):\n",
    "    print(str2, 'and', str3, 'are longest')\n",
    "else:\n",
    "    print(\"All are equal and longest\")\n",
    "    \n",
    "    "
   ]
  },
  {
   "cell_type": "markdown",
   "id": "849a727a",
   "metadata": {},
   "source": [
    "# d.Which composer comes first in the dictionary: 'Berlioz', 'Borodin', 'Brian', 'Bartok', 'Bellini', 'Buxtehude', 'Bernstein'. Which one comes last?¶# "
   ]
  },
  {
   "cell_type": "code",
   "execution_count": 4,
   "id": "d5ffa43c",
   "metadata": {},
   "outputs": [
    {
     "name": "stdout",
     "output_type": "stream",
     "text": [
      "Bartok First in dictionary\n",
      "Buxtehude Last in dictionary\n"
     ]
    }
   ],
   "source": [
    "word=['Berlioz', 'Borodin', 'Brian', 'Bartok', 'Bellini', 'Buxtehude', 'Bernstein']\n",
    "word.sort()\n",
    "print(word[0], 'First in dictionary')\n",
    "print(word[6], 'Last in dictionary')\n",
    "      \n",
    "      "
   ]
  },
  {
   "cell_type": "markdown",
   "id": "f485d610",
   "metadata": {},
   "source": [
    "# Q3. Implement function triangleArea(a,b,c) that takes as input the lengths of the 3 sides of a triangle and returns the area of the triangle. By Heron's formula, the area of a triangle with side lengths a, b, and c is s(s - a)(s -b)(s -c), where s = (a+b+c)/2."
   ]
  },
  {
   "cell_type": "code",
   "execution_count": 6,
   "id": "44dc9a55",
   "metadata": {},
   "outputs": [
    {
     "name": "stdout",
     "output_type": "stream",
     "text": [
      "Enter side a :2\n",
      "2.0\n",
      "Enter side b :2\n",
      "2.0\n",
      "Enter side c :2\n",
      "2.0\n",
      "area of triangle 1.7320508075688772\n"
     ]
    }
   ],
   "source": [
    "import math\n",
    "a = float(input (\"Enter side a :\"))\n",
    "print(a)\n",
    "b = float(input (\"Enter side b :\"))\n",
    "print(b)\n",
    "c = float(input (\"Enter side c :\"))\n",
    "print(c)\n",
    "s= (a + b + c) // 2\n",
    "area = math.sqrt(s * (s - a) * (s - b) * (s - c))\n",
    "print(\"area of triangle\",area)"
   ]
  },
  {
   "cell_type": "markdown",
   "id": "ced6f875",
   "metadata": {},
   "source": [
    "# Q4. Write a program in python to separate odd and even integers in separate arrays."
   ]
  },
  {
   "cell_type": "code",
   "execution_count": 11,
   "id": "45be6f47",
   "metadata": {},
   "outputs": [
    {
     "name": "stdout",
     "output_type": "stream",
     "text": [
      "How many elements in list :- 5\n",
      "Please enter the Value of 1 Element :- 25 \n",
      "Please enter the Value of 2 Element :- 47\n",
      "Please enter the Value of 3 Element :- 42\n",
      "Please enter the Value of 4 Element :- 56\n",
      "Please enter the Value of 5 Element :- 32\n",
      "\n",
      " Element in Even List is :  [42, 56, 32]\n",
      "\n",
      " Element in Odd List is :  [25, 47]\n"
     ]
    }
   ],
   "source": [
    "NumList = []\n",
    "Even = []\n",
    "Odd = []\n",
    " \n",
    "Number = int(input(\"How many elements in list :- \"))\n",
    " \n",
    "for i in range(1, Number + 1):\n",
    "    value = int(input(\"Please enter the Value of %d Element :- \" %i))\n",
    "    NumList.append(value)\n",
    " \n",
    "for j in range(Number):\n",
    "    if(NumList[j] % 2 == 0):\n",
    "        Even.append(NumList[j])\n",
    "    else:\n",
    "        Odd.append(NumList[j])\n",
    " \n",
    "print(\"\\n Element in Even List is : \", Even)\n",
    "print(\"\\n Element in Odd List is : \", Odd)"
   ]
  },
  {
   "cell_type": "markdown",
   "id": "26db9f49",
   "metadata": {},
   "source": [
    "# Question 5"
   ]
  },
  {
   "cell_type": "markdown",
   "id": "e87fafe8",
   "metadata": {},
   "source": [
    "# a.Write a function inside(x,y,x1,y1,x2,y2) that returns True or False depending on whether the point (x,y) lies in the rectangle with lower left corner (x1,y1) and upper right corner (x2,y2)."
   ]
  },
  {
   "cell_type": "code",
   "execution_count": 12,
   "id": "35dafe7a",
   "metadata": {},
   "outputs": [
    {
     "name": "stdout",
     "output_type": "stream",
     "text": [
      "1\n",
      "1\n",
      "0\n",
      "0\n",
      "2\n",
      "3\n",
      "True\n"
     ]
    }
   ],
   "source": [
    "def FindPoint(x1, y1, x2,\n",
    "              y2, x, y) :\n",
    "    if (x > x1 and x < x2 and\n",
    "        y > y1 and y < y2) :\n",
    "        return True\n",
    "    else :\n",
    "        return False\n",
    " \n",
    "\n",
    " \n",
    "    # bottom-left and top-right\n",
    "    # corners of rectangle.\n",
    "    # use multiple assignment\n",
    "x=int(input())\n",
    "y=int(input())\n",
    "x1=int(input())\n",
    "y1=int(input())\n",
    "x2=int(input())\n",
    "y2=int(input())\n",
    "FindPoint(x1, y1, x2,\n",
    "              y2, x, y) \n",
    "print(FindPoint(x1, y1, x2,\n",
    "              y2, x, y))"
   ]
  },
  {
   "cell_type": "markdown",
   "id": "46da9e87",
   "metadata": {},
   "source": [
    "# b.Use function inside() from part a. to write an expression that tests whetherthe point (1,1) lies in both of the following rectangles: one with lower left corner (0.3, 0.5) and upper right corner (1.1, 0.7) and the other with lower left corner (0.5, 0.2) and upper right corner (1.1, 2)."
   ]
  },
  {
   "cell_type": "code",
   "execution_count": 13,
   "id": "c75769fb",
   "metadata": {},
   "outputs": [
    {
     "name": "stdout",
     "output_type": "stream",
     "text": [
      "1\n",
      "1\n",
      "0.5\n",
      "0.2\n",
      "1.1\n",
      "2\n",
      "True\n"
     ]
    }
   ],
   "source": [
    "def FindPoint(x1, y1, x2,\n",
    "              y2, x, y) :\n",
    "    if (x > x1 and x < x2 and\n",
    "        y > y1 and y < y2) :\n",
    "        return True\n",
    "    else :\n",
    "        return False\n",
    " \n",
    "\n",
    " \n",
    "    # bottom-left and top-right\n",
    "    # corners of rectangle.\n",
    "    # use multiple assignment\n",
    "x=float(input())\n",
    "y=float(input())\n",
    "x1=float(input())\n",
    "y1=float(input())\n",
    "x2=float(input())\n",
    "y2=float(input())\n",
    "FindPoint(x1, y1, x2,\n",
    "              y2, x, y) \n",
    "print(FindPoint(x1, y1, x2,\n",
    "              y2, x, y))\n"
   ]
  },
  {
   "cell_type": "markdown",
   "id": "5ca0b421",
   "metadata": {},
   "source": [
    "# Q6. Write a function pig() that takes a word (i.e., a string) as input and returns its pigLatin form. Your function should still work if the input word contains upper case characters. Your output should always be lower case however. "
   ]
  },
  {
   "cell_type": "code",
   "execution_count": 14,
   "id": "b9e3ed97",
   "metadata": {},
   "outputs": [
    {
     "name": "stdout",
     "output_type": "stream",
     "text": [
      "appyhay\n",
      "enterway\n"
     ]
    }
   ],
   "source": [
    "def pig(strr):\n",
    "    strr = str.lower(strr);\n",
    "    vowel = \"aeiou\"\n",
    "    \n",
    "    if (strr[0] in vowel):\n",
    "        strr = strr + \"way\"\n",
    "        \n",
    "    else:\n",
    "        temp = strr[0]\n",
    "        strr = strr[1:]\n",
    "        strr = strr + temp + \"ay\"\n",
    "    print(strr);\n",
    "\n",
    "\n",
    "pig(\"happy\")\n",
    "pig(\"Enter\")"
   ]
  },
  {
   "cell_type": "markdown",
   "id": "562e7a83",
   "metadata": {},
   "source": [
    "# Q7. File bloodtype1.txt records blood-types of patients (A, B, AB, O or OO) at a clinic. Write a function bldcount() that reads the file with name name and reports (i.e., prints) how many patients there are in each bloodtype."
   ]
  },
  {
   "cell_type": "code",
   "execution_count": 1,
   "id": "7340adfa",
   "metadata": {},
   "outputs": [
    {
     "name": "stdout",
     "output_type": "stream",
     "text": [
      "There are  15 patients of blood type A\n",
      "There are  13 patients of blood type AB\n",
      "There are  1 patients of blood type b\n",
      "There are  15 patients of blood type O\n",
      "There are  0 patients of blood type OO\n"
     ]
    }
   ],
   "source": [
    "file = open(\"bloodtype.txt\",\"r\")\n",
    "bloodType = file.read().split(\" \")\n",
    "a = 0\n",
    "ab = 0\n",
    "b = 0\n",
    "o = 0\n",
    "oo = 0\n",
    "\n",
    "for bg in bloodType:\n",
    "    if bg == \"A\":\n",
    "        a += 1\n",
    "    elif bg == \"AB\":\n",
    "        ab += 1\n",
    "    elif bg == \"B\":\n",
    "        b += 1  \n",
    "    elif bg == \"O\":\n",
    "        o += 1\n",
    "    elif bg == \"OO\":\n",
    "        oo += 1 \n",
    "    elif bg == \"\\n\":\n",
    "        break\n",
    "\n",
    "\n",
    "print(\"There are \", a , \"patients of blood type A\" )\n",
    "print(\"There are \", ab , \"patients of blood type AB\" )\n",
    "print(\"There are \", b , \"patients of blood type b\" )\n",
    "print(\"There are \", o , \"patients of blood type O\" )\n",
    "print(\"There are \", oo , \"patients of blood type OO\" )"
   ]
  },
  {
   "cell_type": "markdown",
   "id": "bb27b4d6",
   "metadata": {},
   "source": [
    "# Q8. Write a function curconv() that takes as input:\n",
    "## 1. a currency represented using a string (e.g., 'JPY' for the Japanese Yen or 'EUR' for the Euro)\n",
    "## 2. an amount and then converts and returns the amount in US dollars."
   ]
  },
  {
   "cell_type": "code",
   "execution_count": 2,
   "id": "fc9f29b7",
   "metadata": {},
   "outputs": [
    {
     "name": "stdout",
     "output_type": "stream",
     "text": [
      "122.96544\n",
      "1.241401\n"
     ]
    }
   ],
   "source": [
    "def curconv(currency,amount):\n",
    "    file = open(\"currencies.txt\", \"r\")\n",
    "    fileRead = file.readlines()\n",
    "    file.close()\n",
    "    for file in fileRead :\n",
    "        group = file.split()\n",
    "        if currency == group[0]:\n",
    "            rate = float(group[1])\n",
    "            value = amount * rate\n",
    "        \n",
    "    print(value)   \n",
    "        \n",
    "curconv('EUR',100)\n",
    "curconv('JPY',100)"
   ]
  },
  {
   "cell_type": "markdown",
   "id": "ca613ff9",
   "metadata": {},
   "source": [
    "# Q9. Each of the following will cause an exception (an error). Identify what type of exception each will cause."
   ]
  },
  {
   "cell_type": "markdown",
   "id": "1ef48f59",
   "metadata": {},
   "source": [
    "Trying to add incompatible variables, as in adding 6 + ‘a’ - TypeError\n",
    "\n",
    "Referring to the 12th item of a list that has only 10 items - IndexError\n",
    "\n",
    "Using a value that is out of range for a function’s input, such as calling math.sqrt(-1.0) - ValueError\n",
    "\n",
    "Using an undeclared variable, such as print(x) when x has not been defined - NameError\n",
    "\n",
    "Trying to open a file that does not exist, such as mistyping the file name or looking in the wrong directory. - FileNotFoundError"
   ]
  },
  {
   "cell_type": "markdown",
   "id": "eb8d7993",
   "metadata": {},
   "source": [
    "# Q10. Assume that the string letters is already defined as 'abcdefghijklmnopqrstuvwxyz'. Write a function called frequencies() that takes a string as its only parameter, and returns a list of integers, showing the number of times each character appears in the text. Your function may ignore any characters that are not in letters."
   ]
  },
  {
   "cell_type": "code",
   "execution_count": 15,
   "id": "6f451df9",
   "metadata": {},
   "outputs": [
    {
     "name": "stdout",
     "output_type": "stream",
     "text": [
      "[1, 0, 1, 2, 4, 0, 0, 0, 1, 0, 0, 1, 0, 2, 2, 2, 0, 1, 1, 1, 0, 1, 1, 0, 0, 0]\n",
      "[1, 0, 0, 0, 1, 0, 0, 0, 0, 0, 0, 1, 0, 0, 0, 2, 0, 0, 0, 0, 0, 0, 0, 0, 0, 0]\n"
     ]
    }
   ],
   "source": [
    "def frequencies(strr):\n",
    "    letters = \"abcdefghijklmnopqrstuvwxyz\" \n",
    "    #arr = [0,0,0,0,0,0,0,0,0,0,0,0,0,0,0,0,0,0,0,0,0,0,0,0,0,0]\n",
    "    arr = [0] * 26\n",
    "    strr = strr.lower()\n",
    "    \n",
    "    for i in range(len(strr)):\n",
    "        for j in range(len(letters)):\n",
    "            if(strr[i] == letters[j]):\n",
    "                arr[j] = arr[j] + 1\n",
    "            j = j + 1\n",
    "        i = i + 1\n",
    "    print(arr)\n",
    "                \n",
    "frequencies(\"Newton discovered apple\")\n",
    "frequencies(\"apple\")"
   ]
  },
  {
   "cell_type": "code",
   "execution_count": null,
   "id": "9f18b305",
   "metadata": {},
   "outputs": [],
   "source": []
  }
 ],
 "metadata": {
  "kernelspec": {
   "display_name": "Python 3 (ipykernel)",
   "language": "python",
   "name": "python3"
  },
  "language_info": {
   "codemirror_mode": {
    "name": "ipython",
    "version": 3
   },
   "file_extension": ".py",
   "mimetype": "text/x-python",
   "name": "python",
   "nbconvert_exporter": "python",
   "pygments_lexer": "ipython3",
   "version": "3.9.7"
  }
 },
 "nbformat": 4,
 "nbformat_minor": 5
}
